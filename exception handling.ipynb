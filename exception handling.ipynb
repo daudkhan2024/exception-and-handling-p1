{
 "cells": [
  {
   "cell_type": "code",
   "execution_count": 14,
   "id": "526e4138",
   "metadata": {},
   "outputs": [
    {
     "ename": "FileNotFoundError",
     "evalue": "[Errno 2] No such file or directory: 'testtt.tst'",
     "output_type": "error",
     "traceback": [
      "\u001b[0;31m---------------------------------------------------------------------------\u001b[0m",
      "\u001b[0;31mFileNotFoundError\u001b[0m                         Traceback (most recent call last)",
      "Input \u001b[0;32mIn [14]\u001b[0m, in \u001b[0;36m<cell line: 1>\u001b[0;34m()\u001b[0m\n\u001b[0;32m----> 1\u001b[0m a \u001b[38;5;241m=\u001b[39m \u001b[38;5;28;43mopen\u001b[39;49m\u001b[43m(\u001b[49m\u001b[38;5;124;43m\"\u001b[39;49m\u001b[38;5;124;43mtesttt.tst\u001b[39;49m\u001b[38;5;124;43m\"\u001b[39;49m\u001b[43m,\u001b[49m\u001b[38;5;124;43m\"\u001b[39;49m\u001b[38;5;124;43mr\u001b[39;49m\u001b[38;5;124;43m\"\u001b[39;49m\u001b[43m)\u001b[49m\n",
      "\u001b[0;31mFileNotFoundError\u001b[0m: [Errno 2] No such file or directory: 'testtt.tst'"
     ]
    }
   ],
   "source": [
    "a = open(\"testtt.tst\",\"r\")"
   ]
  },
  {
   "cell_type": "code",
   "execution_count": 25,
   "id": "8603f5a1",
   "metadata": {},
   "outputs": [],
   "source": [
    "try:\n",
    "    a = open(\"testtt.tst\",\"r\")\n",
    "except:\n",
    "    pass # in this way the code is passed to next block for execution"
   ]
  },
  {
   "cell_type": "code",
   "execution_count": 17,
   "id": "51128285",
   "metadata": {},
   "outputs": [
    {
     "name": "stdout",
     "output_type": "stream",
     "text": [
      "there is an Error\n"
     ]
    }
   ],
   "source": [
    "try:\n",
    "    a = open(\"testtt.tst\",\"r\")\n",
    "except:\n",
    "    print(\"there is an Error\")"
   ]
  },
  {
   "cell_type": "code",
   "execution_count": 18,
   "id": "6d103398",
   "metadata": {},
   "outputs": [
    {
     "name": "stdout",
     "output_type": "stream",
     "text": [
      "there is an Error\n"
     ]
    }
   ],
   "source": [
    "try:\n",
    "    a = open(\"testtt.tst\",\"r\")\n",
    "except IOError:\n",
    "    print(\"there is an Error\")"
   ]
  },
  {
   "cell_type": "code",
   "execution_count": 24,
   "id": "bcf4b4d5",
   "metadata": {},
   "outputs": [
    {
     "ename": "ZeroDivisionError",
     "evalue": "division by zero",
     "output_type": "error",
     "traceback": [
      "\u001b[0;31m---------------------------------------------------------------------------\u001b[0m",
      "\u001b[0;31mZeroDivisionError\u001b[0m                         Traceback (most recent call last)",
      "Input \u001b[0;32mIn [24]\u001b[0m, in \u001b[0;36m<cell line: 1>\u001b[0;34m()\u001b[0m\n\u001b[1;32m      1\u001b[0m \u001b[38;5;28;01mtry\u001b[39;00m:\n\u001b[0;32m----> 2\u001b[0m     a \u001b[38;5;241m=\u001b[39m \u001b[38;5;241;43m5\u001b[39;49m\u001b[38;5;241;43m/\u001b[39;49m\u001b[38;5;241;43m0\u001b[39;49m\n\u001b[1;32m      3\u001b[0m \u001b[38;5;28;01mexcept\u001b[39;00m \u001b[38;5;167;01mIOError\u001b[39;00m:\u001b[38;5;66;03m#there are functions which is created for except already\u001b[39;00m\n\u001b[1;32m      4\u001b[0m     \u001b[38;5;28mprint\u001b[39m(\u001b[38;5;124m\"\u001b[39m\u001b[38;5;124mthere is an Error\u001b[39m\u001b[38;5;124m\"\u001b[39m)\n",
      "\u001b[0;31mZeroDivisionError\u001b[0m: division by zero"
     ]
    }
   ],
   "source": [
    "try:\n",
    "    a = 5/0\n",
    "except IOError:#there are functions which is created for except already\n",
    "    print(\"there is an Error\")"
   ]
  },
  {
   "cell_type": "code",
   "execution_count": 23,
   "id": "80b3d7aa",
   "metadata": {},
   "outputs": [
    {
     "name": "stdout",
     "output_type": "stream",
     "text": [
      "there is an Error division by zero\n"
     ]
    }
   ],
   "source": [
    "try:\n",
    "    a = 5/0\n",
    "except ArithmeticError as e:\n",
    "    print(\"there is an Error\",e) # now the issue is fixed"
   ]
  },
  {
   "cell_type": "code",
   "execution_count": 30,
   "id": "f39dea5e",
   "metadata": {},
   "outputs": [
    {
     "name": "stdout",
     "output_type": "stream",
     "text": [
      "this will execute once \n",
      "    try will execute with success now\n"
     ]
    }
   ],
   "source": [
    "try:\n",
    "    a = 5/4\n",
    "except ArithmeticError as e:\n",
    "    print(\"there is an Error\",e)\n",
    "else:\n",
    "    print(\"\"\"this will execute once \n",
    "    try will execute with success now\"\"\")\n",
    "    \n",
    "#the issue is fixed"
   ]
  },
  {
   "cell_type": "code",
   "execution_count": 31,
   "id": "b0616f55",
   "metadata": {},
   "outputs": [
    {
     "name": "stdout",
     "output_type": "stream",
     "text": [
      "this will execute once \n",
      "    try will execute with success now\n"
     ]
    },
    {
     "ename": "FileNotFoundError",
     "evalue": "[Errno 2] No such file or directory: 'testt.txt'",
     "output_type": "error",
     "traceback": [
      "\u001b[0;31m---------------------------------------------------------------------------\u001b[0m",
      "\u001b[0;31mFileNotFoundError\u001b[0m                         Traceback (most recent call last)",
      "Input \u001b[0;32mIn [31]\u001b[0m, in \u001b[0;36m<cell line: 1>\u001b[0;34m()\u001b[0m\n\u001b[1;32m      5\u001b[0m \u001b[38;5;28;01melse\u001b[39;00m:\n\u001b[1;32m      6\u001b[0m     \u001b[38;5;28mprint\u001b[39m(\u001b[38;5;124m\"\"\"\u001b[39m\u001b[38;5;124mthis will execute once \u001b[39m\n\u001b[1;32m      7\u001b[0m \u001b[38;5;124m    try will execute with success now\u001b[39m\u001b[38;5;124m\"\"\"\u001b[39m)\n\u001b[0;32m----> 8\u001b[0m     f \u001b[38;5;241m=\u001b[39m \u001b[38;5;28;43mopen\u001b[39;49m\u001b[43m(\u001b[49m\u001b[38;5;124;43m\"\u001b[39;49m\u001b[38;5;124;43mtestt.txt\u001b[39;49m\u001b[38;5;124;43m\"\u001b[39;49m\u001b[43m,\u001b[49m\u001b[38;5;124;43m\"\u001b[39;49m\u001b[38;5;124;43mr\u001b[39;49m\u001b[38;5;124;43m\"\u001b[39;49m\u001b[43m)\u001b[49m\n",
      "\u001b[0;31mFileNotFoundError\u001b[0m: [Errno 2] No such file or directory: 'testt.txt'"
     ]
    }
   ],
   "source": [
    "try:\n",
    "    a = 5/4\n",
    "except ArithmeticError as e:\n",
    "    print(\"there is an Error\",e)\n",
    "else:\n",
    "    print(\"\"\"this will execute once \n",
    "    try will execute with success now\"\"\")\n",
    "    f = open(\"testt.txt\",\"r\")"
   ]
  },
  {
   "cell_type": "code",
   "execution_count": 32,
   "id": "bf86e192",
   "metadata": {},
   "outputs": [
    {
     "name": "stdout",
     "output_type": "stream",
     "text": [
      "this will execute once \n",
      "    try will execute with success now\n",
      "there is an issue with internal try block\n"
     ]
    }
   ],
   "source": [
    "#fixing it\n",
    "try:\n",
    "    a = 5/4\n",
    "except ArithmeticError as e:\n",
    "    print(\"there is an Error\",e)\n",
    "else:\n",
    "    print(\"\"\"this will execute once \n",
    "    try will execute with success now\"\"\")\n",
    "    try:\n",
    "        f = open(\"testt.txt\",\"r\")\n",
    "    except:\n",
    "        print(\"there is an issue with internal try block\")"
   ]
  },
  {
   "cell_type": "code",
   "execution_count": 38,
   "id": "654d410b",
   "metadata": {},
   "outputs": [
    {
     "name": "stdout",
     "output_type": "stream",
     "text": [
      "enter the first number4\n",
      "enter second number2\n",
      "this will execute once \n",
      "    try will execute with success now\n"
     ]
    }
   ],
   "source": [
    "#input by user\n",
    "try:\n",
    "    a = int(input(\"enter the first number\"))\n",
    "    b = int(input(\"enter second number\"))\n",
    "    c = a/b\n",
    "    a = 5/4\n",
    "except ArithmeticError as e:\n",
    "    print(\"there is an Error\",e)\n",
    "    f = open(\"testt.txt\",\"wr\")\n",
    "else:\n",
    "    print(\"\"\"this will execute once \n",
    "    try will execute with success now\"\"\")\n",
    "    try:\n",
    "        f = open(\"testt.txt\",\"r\")\n",
    "    except:\n",
    "        print(\"there is an issue with internal try block\")"
   ]
  },
  {
   "cell_type": "code",
   "execution_count": 41,
   "id": "76dc4ce3",
   "metadata": {},
   "outputs": [],
   "source": [
    "#other example"
   ]
  },
  {
   "cell_type": "code",
   "execution_count": 51,
   "id": "6218b26b",
   "metadata": {},
   "outputs": [
    {
     "ename": "IndexError",
     "evalue": "list index out of range",
     "output_type": "error",
     "traceback": [
      "\u001b[0;31m---------------------------------------------------------------------------\u001b[0m",
      "\u001b[0;31mIndexError\u001b[0m                                Traceback (most recent call last)",
      "Input \u001b[0;32mIn [51]\u001b[0m, in \u001b[0;36m<cell line: 2>\u001b[0;34m()\u001b[0m\n\u001b[1;32m      1\u001b[0m l \u001b[38;5;241m=\u001b[39m [\u001b[38;5;241m2\u001b[39m,\u001b[38;5;241m3\u001b[39m,\u001b[38;5;241m4\u001b[39m,\u001b[38;5;241m5\u001b[39m,\u001b[38;5;241m6\u001b[39m]\n\u001b[0;32m----> 2\u001b[0m \u001b[38;5;28mprint\u001b[39m(\u001b[43ml\u001b[49m\u001b[43m[\u001b[49m\u001b[38;5;241;43m100\u001b[39;49m\u001b[43m]\u001b[49m)\n\u001b[1;32m      3\u001b[0m t \u001b[38;5;241m=\u001b[39m (\u001b[38;5;241m3\u001b[39m,\u001b[38;5;241m4\u001b[39m,\u001b[38;5;241m5\u001b[39m,\u001b[38;5;241m6\u001b[39m,\u001b[38;5;241m6\u001b[39m,\u001b[38;5;241m46\u001b[39m)\n\u001b[1;32m      4\u001b[0m \u001b[38;5;28mprint\u001b[39m(t)\n",
      "\u001b[0;31mIndexError\u001b[0m: list index out of range"
     ]
    }
   ],
   "source": [
    "l = [2,3,4,5,6]\n",
    "print(l[100])\n",
    "t = (3,4,5,6,6,46)\n",
    "print(t)\n",
    "t[0]=\"khan\""
   ]
  },
  {
   "cell_type": "code",
   "execution_count": 61,
   "id": "5777efbb",
   "metadata": {},
   "outputs": [
    {
     "name": "stdout",
     "output_type": "stream",
     "text": [
      "Error in code\n",
      "(3, 4, 5, 6, 6, 46)\n"
     ]
    }
   ],
   "source": [
    "try:\n",
    "    l = [2,3,4,5,6]\n",
    "    l[100]\n",
    "except:\n",
    "    print(\"Error in code\")\n",
    "    t = (3,4,5,6,6,46)\n",
    "    print(t)\n",
    "    try:\n",
    "        t[0]=\"khan\"\n",
    "        try:\n",
    "            list(t)\n",
    "            print(t)\n",
    "        except:\n",
    "            pass\n",
    "    except:\n",
    "            pass\n",
    "else:\n",
    "    print(\"there is NO Error in code\")"
   ]
  },
  {
   "cell_type": "code",
   "execution_count": 73,
   "id": "cdd851e5",
   "metadata": {},
   "outputs": [
    {
     "name": "stdout",
     "output_type": "stream",
     "text": [
      "else will execute if try exture with success\n",
      "finally i will execute in any case\n",
      "2\n"
     ]
    }
   ],
   "source": [
    "try:\n",
    "    f = open(\"teset.txt\",\"w+\")\n",
    "except:\n",
    "    pass\n",
    "else:\n",
    "    print(\"else will execute if try exture with success\")\n",
    "finally:\n",
    "    print(\"finally i will execute in any case\")\n",
    "    l = [2,3,4,5,5]\n",
    "    try:\n",
    "        print(l[0])\n",
    "    except:\n",
    "        pass\n"
   ]
  },
  {
   "cell_type": "code",
   "execution_count": 77,
   "id": "501b9df5",
   "metadata": {},
   "outputs": [
    {
     "name": "stdout",
     "output_type": "stream",
     "text": [
      "this is my error [Errno 2] No such file or directory: 'teeeet.txt'\n"
     ]
    }
   ],
   "source": [
    "try:\n",
    "    f = open(\"teeeet.txt\",\"r\")\n",
    "except IOError as e:\n",
    "    print(\"this is my error\",e)"
   ]
  },
  {
   "cell_type": "code",
   "execution_count": null,
   "id": "8b377ce5",
   "metadata": {},
   "outputs": [],
   "source": []
  }
 ],
 "metadata": {
  "kernelspec": {
   "display_name": "Python 3 (ipykernel)",
   "language": "python",
   "name": "python3"
  },
  "language_info": {
   "codemirror_mode": {
    "name": "ipython",
    "version": 3
   },
   "file_extension": ".py",
   "mimetype": "text/x-python",
   "name": "python",
   "nbconvert_exporter": "python",
   "pygments_lexer": "ipython3",
   "version": "3.9.12"
  }
 },
 "nbformat": 4,
 "nbformat_minor": 5
}
